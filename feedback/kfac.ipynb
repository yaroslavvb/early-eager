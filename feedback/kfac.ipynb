{
 "cells": [
  {
   "cell_type": "markdown",
   "metadata": {},
   "source": [
    "# KFAC for autoencoder"
   ]
  },
  {
   "cell_type": "markdown",
   "metadata": {},
   "source": [
    "## Headers + common utils"
   ]
  },
  {
   "cell_type": "code",
   "execution_count": 1,
   "metadata": {},
   "outputs": [
    {
     "name": "stdout",
     "output_type": "stream",
     "text": [
      "Using MKL\n"
     ]
    }
   ],
   "source": [
    "import gzip\n",
    "import numpy\n",
    "import numpy as np\n",
    "import scipy\n",
    "import sys\n",
    "import tensorflow as tf\n",
    "from tensorflow.contrib.learn.python.learn.datasets import base\n",
    "import time\n",
    "\n",
    "from tensorflow.contrib.eager.python import tfe\n",
    "tfe.enable_eager_execution()\n",
    "\n",
    "\n",
    "USE_MKL = True\n",
    "\n",
    "\n",
    "if USE_MKL:\n",
    "  assert np.__config__.get_info(\"lapack_mkl_info\"), \"No MKL detected :(\"\n",
    "  print(\"Using MKL\")\n",
    "\n",
    "# for line profiling\n",
    "try:\n",
    "    profile  # throws an exception when profile isn't defined\n",
    "except NameError:\n",
    "    profile = lambda x: x   # if it's not defined simply ignore the decorator.\n",
    "    \n",
    "\n",
    "# helper utilities\n",
    "def W_uniform(s1, s2): # uniform weight init from Ng UFLDL\n",
    "  r = np.sqrt(6) / np.sqrt(s1 + s2 + 1)\n",
    "  result = np.random.random(2*s2*s1)*2*r-r\n",
    "  return result.astype(dtype)\n",
    "\n",
    "def load_MNIST_images(filename):\n",
    "  \"\"\"\n",
    "  returns a 28x28x[number of MNIST images] matrix containing\n",
    "  the raw MNIST images\n",
    "  :param filename: input data file\n",
    "  \"\"\"\n",
    "  with open(filename, \"r\") as f:\n",
    "    magic = np.fromfile(f, dtype=np.dtype('>i4'), count=1)\n",
    "\n",
    "    num_images = int(np.fromfile(f, dtype=np.dtype('>i4'), count=1))\n",
    "    num_rows = int(np.fromfile(f, dtype=np.dtype('>i4'), count=1))\n",
    "    num_cols = int(np.fromfile(f, dtype=np.dtype('>i4'), count=1))\n",
    "\n",
    "    images = np.fromfile(f, dtype=np.ubyte)\n",
    "    images = images.reshape((num_images, num_rows * num_cols)).transpose()\n",
    "    images = images.astype(np.float64) / 255\n",
    "\n",
    "    f.close()\n",
    "\n",
    "    return images\n",
    "\n",
    "def _read32(bytestream):\n",
    "  dt = numpy.dtype(numpy.uint32).newbyteorder('>')\n",
    "  return numpy.frombuffer(bytestream.read(4), dtype=dt)[0]\n",
    "\n",
    "def extract_images(f):\n",
    "  \"\"\"Extract the images into a 4D uint8 numpy array [index, y, x, depth].\n",
    "  Args:\n",
    "    f: A file object that can be passed into a gzip reader.\n",
    "  Returns:\n",
    "    data: A 4D uint8 numpy array [index, y, x, depth].\n",
    "  Raises:\n",
    "    ValueError: If the bytestream does not start with 2051.\n",
    "  \"\"\"\n",
    "  print('Extracting', f.name)\n",
    "  with gzip.GzipFile(fileobj=f) as bytestream:\n",
    "    magic = _read32(bytestream)\n",
    "    if magic != 2051:\n",
    "      raise ValueError('Invalid magic number %d in MNIST image file: %s' %\n",
    "                       (magic, f.name))\n",
    "    num_images = _read32(bytestream)\n",
    "    rows = _read32(bytestream)\n",
    "    cols = _read32(bytestream)\n",
    "    buf = bytestream.read(rows * cols * num_images)\n",
    "    data = numpy.frombuffer(buf, dtype=numpy.uint8)\n",
    "    data = data.reshape(num_images, rows, cols, 1)\n",
    "    return data\n",
    "\n",
    "\n",
    "def t(x):\n",
    "  return tf.transpose(x)\n",
    "\n",
    "# TensorShape([Dimension(2), Dimension(10)]) => (2, 10)\n",
    "def fix_shape(tf_shape):\n",
    "  return tuple(int(dim) for dim in tf_shape)\n",
    "\n",
    "def partition_list(l, sizes):\n",
    "  \"\"\"Partition l into sublists of given sizes.\"\"\"\n",
    "  assert len(l.shape) == 1\n",
    "  assert np.sum(sizes) == l.shape[0]\n",
    "  splits = []\n",
    "  current_idx = 0\n",
    "  for i in range(len(sizes)):\n",
    "    splits.append(l[current_idx: current_idx+sizes[i]])\n",
    "    current_idx += sizes[i]\n",
    "  return splits\n",
    "\n",
    "def unflatten(Wf, fs):\n",
    "  \"\"\"Turn flattened Tensor into list of rank-2 tensors with given sizes.\"\"\"\n",
    "  \n",
    "  Wf_shape = fix_shape(Wf.shape)\n",
    "  if len(Wf_shape)==2 and Wf_shape[1] == 1:  # treat col mats as vectors\n",
    "    Wf = tf.reshape(Wf, [-1])\n",
    "  dims = [(fs[i+1],fs[i]) for i in range(len(fs)-1)]\n",
    "  sizes = [s[0]*s[1] for s in dims]\n",
    "  assert len(Wf.shape) == 1\n",
    "  assert np.sum(sizes)==Wf.shape[0]\n",
    "  Wsf = partition_list(Wf, sizes)\n",
    "  Ws = [unvec(Wsf[i], dims[i][0]) for i in range(len(sizes))]\n",
    "  return Ws\n",
    "\n",
    "def unvec(vec, rows):\n",
    "  \"\"\"Turn vectorized version of tensor into original matrix with given\n",
    "  number of rows.\"\"\"\n",
    "  assert len(vec.shape) == 1\n",
    "  assert vec.shape[0]%rows == 0\n",
    "  cols = int(vec.shape[0]//rows)\n",
    "  return tf.transpose(tf.reshape(vec, (cols, -1)))\n",
    "\n",
    "\n",
    "def vec(mat):\n",
    "  \"\"\"Vectorize matrix.\"\"\"\n",
    "  return tf.reshape(tf.transpose(mat), [-1,1])\n",
    "\n",
    "\n",
    "def flatten(Ws):\n",
    "  \"\"\"Inverse of unflatten.\"\"\"\n",
    "  return tf.concat([tf.reshape(vec(W),(-1,)) for W in Ws], axis=0)\n",
    "\n",
    "def L2(t):\n",
    "  return tf.reduce_sum(tf.square(t))\n",
    "\n",
    "def Identity(n):\n",
    "  \"\"\"Identity matrix of size n.\"\"\"\n",
    "  return tf.diag(tf.ones((n,), dtype=dtype))\n",
    "\n",
    "def regularized_inverse(mat, lambda_):\n",
    "  n = int(mat.shape[0])\n",
    "  assert n == int(mat.shape[1])\n",
    "  regmat = mat + lambda_*Identity(n)\n",
    "  if USE_MKL:   # MKL is 5x faster than TF for inverses\n",
    "    return tf.constant(scipy.linalg.inv(regmat.numpy()))\n",
    "  return tf.linalg.inv(regmat)\n",
    "\n",
    "# Time tracking functions\n",
    "global_time_list = []\n",
    "global_last_time = 0\n",
    "def record_time():\n",
    "  global global_last_time, global_time_list\n",
    "  new_time = time.perf_counter()\n",
    "  global_time_list.append(new_time - global_last_time)\n",
    "  global_last_time = time.perf_counter()\n",
    "\n",
    "def summarize_time(time_list=None):\n",
    "  if time_list is None:\n",
    "    time_list = global_time_list\n",
    "\n",
    "  if time_list[0]>3600*10:   # large first interval means no relative ts\n",
    "    del time_list[0]\n",
    "    \n",
    "  time_list = 1000*np.array(time_list)  # get seconds, convert to ms\n",
    "  if len(time_list)>0:\n",
    "    min = np.min(time_list)\n",
    "    median = np.median(time_list)\n",
    "    formatted = [\"%.2f\"%(d,) for d in time_list[:10]]\n",
    "    print(\"Times: min: %.2f, median: %.2f, mean: %.2f\"%(min, median, np.mean(time_list)))\n",
    "    #    print(\"Times: min: %.2f, median: %.2f, mean: %.2f\"%(min, median,\",\".join(formatted)))\n",
    "  else:\n",
    "    print(\"Times: <empty>\")"
   ]
  },
  {
   "cell_type": "markdown",
   "metadata": {},
   "source": [
    "## Implement KFAC gradient calculation"
   ]
  },
  {
   "cell_type": "code",
   "execution_count": 2,
   "metadata": {
    "collapsed": true
   },
   "outputs": [],
   "source": [
    "def loss_and_grad(Wf):\n",
    "  \"\"\"Returns cost, gradient for current parameter vector.\"\"\"\n",
    "  \n",
    "  W = unflatten(Wf, fs[1:])   # perftodo: this creates transposes\n",
    "  W.insert(0, X)\n",
    "\n",
    "  A = [None]*(n+2)\n",
    "  A[1] = W[0]\n",
    "  for i in range(1, n+1):\n",
    "    A[i+1] = tf.sigmoid(W[i] @ A[i])\n",
    "  err = (A[3] - A[1])\n",
    "\n",
    "  def d_sigmoid(y):\n",
    "    return y*(1-y)\n",
    "\n",
    "  B = [None]*(n+1)\n",
    "  B2 = [None]*(n+1)\n",
    "  B[n] = err*d_sigmoid(A[n+1])\n",
    "  sampled_labels = tf.random_normal((f(n), f(-1)), dtype=dtype, seed=0)\n",
    "  B2[n] = sampled_labels*d_sigmoid(A[n+1])\n",
    "  for i in range(n-1, -1, -1):\n",
    "    backprop = t(W[i+1]) @ B[i+1]\n",
    "    backprop2 = t(W[i+1]) @ B2[i+1]\n",
    "    B[i] = backprop*d_sigmoid(A[i+1])\n",
    "    B2[i] = backprop2*d_sigmoid(A[i+1])\n",
    "\n",
    "  dW = [None]*(n+1)\n",
    "  pre_dW = [None]*(n+1)  # preconditioned dW\n",
    "\n",
    "  cov_A = [None]*(n+1)    # covariance of activations[i]\n",
    "  cov_B2 = [None]*(n+1)   # covariance of synthetic backprops[i]\n",
    "  vars_svd_A = [None]*(n+1)\n",
    "  vars_svd_B2 = [None]*(n+1)\n",
    "  for i in range(1,n+1):\n",
    "    cov_A[i] = A[i]@t(A[i])/dsize\n",
    "    cov_B2[i] = B2[i]@t(B2[i])/dsize\n",
    "    whitened_A = regularized_inverse(cov_A[i], lambda_) @ A[i]\n",
    "    whitened_B = regularized_inverse(cov_B2[i], lambda_) @ B[i]\n",
    "    pre_dW[i] = (whitened_B @ t(whitened_A))/dsize\n",
    "    dW[i] = (B[i] @ t(A[i]))/dsize\n",
    "\n",
    "  reconstruction = L2(err) / (2 * dsize)\n",
    "  loss = reconstruction\n",
    "\n",
    "  grad = flatten(dW[1:])\n",
    "  kfac_grad = flatten(pre_dW[1:])\n",
    "  return loss, grad, kfac_grad"
   ]
  },
  {
   "cell_type": "markdown",
   "metadata": {},
   "source": [
    "## Initialize data/architecture"
   ]
  },
  {
   "cell_type": "code",
   "execution_count": 3,
   "metadata": {},
   "outputs": [
    {
     "name": "stdout",
     "output_type": "stream",
     "text": [
      "Extracting /tmp/train-images-idx3-ubyte.gz\n"
     ]
    }
   ],
   "source": [
    "dtype = np.float32\n",
    "TRAIN_IMAGES = 'train-images-idx3-ubyte.gz'\n",
    "source_url = 'https://storage.googleapis.com/cvdf-datasets/mnist/'\n",
    "local_file = base.maybe_download(TRAIN_IMAGES, '/tmp',\n",
    "                                 source_url + TRAIN_IMAGES)\n",
    "train_images = extract_images(open(local_file, 'rb'))\n",
    "train_images = train_images.reshape(60000, 28**2).T.astype(np.float64)/255\n",
    "dsize = 10000\n",
    "fs = [dsize, 28*28, 196, 28*28]  # layer sizes\n",
    "lambda_=3e-3\n",
    "def f(i): return fs[i+1]  # W[i] has shape f[i] x f[i-1]\n",
    "n = len(fs) - 2\n",
    "X = train_images[:,:dsize].astype(dtype)"
   ]
  },
  {
   "cell_type": "markdown",
   "metadata": {},
   "source": [
    "## Train using gradient descent"
   ]
  },
  {
   "cell_type": "code",
   "execution_count": 4,
   "metadata": {},
   "outputs": [
    {
     "name": "stdout",
     "output_type": "stream",
     "text": [
      "tf.Tensor(92.8628, shape=(), dtype=float32)\n",
      "tf.Tensor(40.3994, shape=(), dtype=float32)\n",
      "tf.Tensor(30.2901, shape=(), dtype=float32)\n",
      "tf.Tensor(28.4983, shape=(), dtype=float32)\n",
      "tf.Tensor(27.8251, shape=(), dtype=float32)\n",
      "tf.Tensor(27.462, shape=(), dtype=float32)\n",
      "tf.Tensor(27.2289, shape=(), dtype=float32)\n",
      "tf.Tensor(27.0619, shape=(), dtype=float32)\n",
      "tf.Tensor(26.933, shape=(), dtype=float32)\n",
      "tf.Tensor(26.8276, shape=(), dtype=float32)\n",
      "tf.Tensor(26.7376, shape=(), dtype=float32)\n",
      "tf.Tensor(26.658, shape=(), dtype=float32)\n",
      "tf.Tensor(26.5854, shape=(), dtype=float32)\n",
      "tf.Tensor(26.5176, shape=(), dtype=float32)\n",
      "tf.Tensor(26.4531, shape=(), dtype=float32)\n",
      "tf.Tensor(26.3907, shape=(), dtype=float32)\n",
      "tf.Tensor(26.3294, shape=(), dtype=float32)\n",
      "tf.Tensor(26.2686, shape=(), dtype=float32)\n",
      "tf.Tensor(26.2078, shape=(), dtype=float32)\n",
      "tf.Tensor(26.1463, shape=(), dtype=float32)\n",
      "tf.Tensor(26.084, shape=(), dtype=float32)\n",
      "tf.Tensor(26.0204, shape=(), dtype=float32)\n",
      "tf.Tensor(25.9553, shape=(), dtype=float32)\n",
      "tf.Tensor(25.8885, shape=(), dtype=float32)\n",
      "tf.Tensor(25.8197, shape=(), dtype=float32)\n",
      "tf.Tensor(25.749, shape=(), dtype=float32)\n",
      "tf.Tensor(25.6761, shape=(), dtype=float32)\n",
      "tf.Tensor(25.601, shape=(), dtype=float32)\n",
      "tf.Tensor(25.5236, shape=(), dtype=float32)\n",
      "tf.Tensor(25.4439, shape=(), dtype=float32)\n",
      "tf.Tensor(25.362, shape=(), dtype=float32)\n",
      "tf.Tensor(25.2777, shape=(), dtype=float32)\n",
      "tf.Tensor(25.1913, shape=(), dtype=float32)\n",
      "tf.Tensor(25.1027, shape=(), dtype=float32)\n",
      "tf.Tensor(25.012, shape=(), dtype=float32)\n",
      "tf.Tensor(24.9193, shape=(), dtype=float32)\n",
      "tf.Tensor(24.8247, shape=(), dtype=float32)\n",
      "tf.Tensor(24.7284, shape=(), dtype=float32)\n",
      "tf.Tensor(24.6305, shape=(), dtype=float32)\n",
      "tf.Tensor(24.531, shape=(), dtype=float32)\n"
     ]
    }
   ],
   "source": [
    "np.random.seed(0)\n",
    "tf.set_random_seed(0)\n",
    "\n",
    "Wf = tf.constant(W_uniform(fs[2],fs[3]))\n",
    "lr = tf.constant(0.2)\n",
    "\n",
    "losses0 = []\n",
    "for i in range(40):\n",
    "  loss, grad, kfac_grad = loss_and_grad(Wf)\n",
    "  print(loss)\n",
    "  losses0.append(loss.numpy())\n",
    "  Wf-=lr*grad"
   ]
  },
  {
   "cell_type": "markdown",
   "metadata": {},
   "source": [
    "## Train using KFAC"
   ]
  },
  {
   "cell_type": "code",
   "execution_count": 5,
   "metadata": {},
   "outputs": [
    {
     "name": "stdout",
     "output_type": "stream",
     "text": [
      "tf.Tensor(92.8628, shape=(), dtype=float32)\n",
      "tf.Tensor(62.0933, shape=(), dtype=float32)\n",
      "tf.Tensor(31.5272, shape=(), dtype=float32)\n",
      "tf.Tensor(17.0098, shape=(), dtype=float32)\n",
      "tf.Tensor(10.1103, shape=(), dtype=float32)\n",
      "tf.Tensor(6.57397, shape=(), dtype=float32)\n",
      "tf.Tensor(4.61933, shape=(), dtype=float32)\n",
      "tf.Tensor(3.47517, shape=(), dtype=float32)\n",
      "tf.Tensor(2.74656, shape=(), dtype=float32)\n",
      "tf.Tensor(2.26078, shape=(), dtype=float32)\n",
      "tf.Tensor(1.91945, shape=(), dtype=float32)\n",
      "tf.Tensor(1.6727, shape=(), dtype=float32)\n",
      "tf.Tensor(1.48772, shape=(), dtype=float32)\n",
      "tf.Tensor(1.34589, shape=(), dtype=float32)\n",
      "tf.Tensor(1.23425, shape=(), dtype=float32)\n",
      "tf.Tensor(1.14428, shape=(), dtype=float32)\n",
      "tf.Tensor(1.07024, shape=(), dtype=float32)\n",
      "tf.Tensor(1.00858, shape=(), dtype=float32)\n",
      "tf.Tensor(0.956685, shape=(), dtype=float32)\n",
      "tf.Tensor(0.912095, shape=(), dtype=float32)\n",
      "tf.Tensor(0.873375, shape=(), dtype=float32)\n",
      "tf.Tensor(0.839401, shape=(), dtype=float32)\n",
      "tf.Tensor(0.80948, shape=(), dtype=float32)\n",
      "tf.Tensor(0.782871, shape=(), dtype=float32)\n",
      "tf.Tensor(0.75917, shape=(), dtype=float32)\n",
      "tf.Tensor(0.737931, shape=(), dtype=float32)\n",
      "tf.Tensor(0.718673, shape=(), dtype=float32)\n",
      "tf.Tensor(0.701119, shape=(), dtype=float32)\n",
      "tf.Tensor(0.685015, shape=(), dtype=float32)\n",
      "tf.Tensor(0.670325, shape=(), dtype=float32)\n",
      "tf.Tensor(0.656784, shape=(), dtype=float32)\n",
      "tf.Tensor(0.644364, shape=(), dtype=float32)\n",
      "tf.Tensor(0.632786, shape=(), dtype=float32)\n",
      "tf.Tensor(0.622213, shape=(), dtype=float32)\n",
      "tf.Tensor(0.612301, shape=(), dtype=float32)\n",
      "tf.Tensor(0.60332, shape=(), dtype=float32)\n",
      "tf.Tensor(0.59475, shape=(), dtype=float32)\n",
      "tf.Tensor(0.587496, shape=(), dtype=float32)\n",
      "tf.Tensor(0.579735, shape=(), dtype=float32)\n",
      "tf.Tensor(0.573927, shape=(), dtype=float32)\n"
     ]
    }
   ],
   "source": [
    "np.random.seed(0)\n",
    "tf.set_random_seed(0)\n",
    "\n",
    "Wf = tf.constant(W_uniform(fs[2],fs[3]))\n",
    "lr = tf.constant(0.2)\n",
    "\n",
    "losses1 = []\n",
    "for i in range(40):\n",
    "  loss, grad, kfac_grad = loss_and_grad(Wf)\n",
    "  print(loss)\n",
    "  losses1.append(loss.numpy())\n",
    "  Wf-=lr*kfac_grad"
   ]
  },
  {
   "cell_type": "markdown",
   "metadata": {},
   "source": [
    "## Compare"
   ]
  },
  {
   "cell_type": "code",
   "execution_count": 6,
   "metadata": {
    "collapsed": true
   },
   "outputs": [],
   "source": [
    "import matplotlib.pyplot as plt"
   ]
  },
  {
   "cell_type": "code",
   "execution_count": 9,
   "metadata": {},
   "outputs": [
    {
     "data": {
      "image/png": "[encoded data removed]",
      "text/plain": [
       "<matplotlib.figure.Figure at 0x7f427409fa20>"
      ]
     },
     "metadata": {},
     "output_type": "display_data"
    }
   ],
   "source": [
    "plt.plot(range(40), losses0, label='gradient')\n",
    "plt.plot(range(40), losses1, label='kfac')\n",
    "plt.xlabel('step')\n",
    "plt.ylabel('loss')\n",
    "plt.title('kfac vs gradient descent')\n",
    "plt.legend()\n",
    "plt.show()"
   ]
  },
  {
   "cell_type": "code",
   "execution_count": 3,
   "metadata": {},
   "outputs": [
    {
     "ename": "AttributeError",
     "evalue": "type object 'numpy.float32' has no attribute 'as_datatype_enum'",
     "output_type": "error",
     "traceback": [
      "\u001b[0;31m---------------------------------------------------------------------------\u001b[0m",
      "\u001b[0;31mAttributeError\u001b[0m                            Traceback (most recent call last)",
      "\u001b[0;32m<ipython-input-3-c25ded2e4e0e>\u001b[0m in \u001b[0;36m<module>\u001b[0;34m()\u001b[0m\n\u001b[1;32m      5\u001b[0m \u001b[0;34m\u001b[0m\u001b[0m\n\u001b[1;32m      6\u001b[0m \u001b[0;34m\u001b[0m\u001b[0m\n\u001b[0;32m----> 7\u001b[0;31m \u001b[0mtf\u001b[0m\u001b[0;34m.\u001b[0m\u001b[0mconstant\u001b[0m\u001b[0;34m(\u001b[0m\u001b[0;36m0.1\u001b[0m\u001b[0;34m,\u001b[0m \u001b[0mdtype\u001b[0m\u001b[0;34m=\u001b[0m\u001b[0mnp\u001b[0m\u001b[0;34m.\u001b[0m\u001b[0mfloat32\u001b[0m\u001b[0;34m)\u001b[0m\u001b[0;34m\u001b[0m\u001b[0m\n\u001b[0m",
      "\u001b[0;32m~/anaconda3/envs/sep22/lib/python3.5/site-packages/tensorflow/python/framework/constant_op.py\u001b[0m in \u001b[0;36mconstant\u001b[0;34m(value, dtype, shape, name, verify_shape)\u001b[0m\n\u001b[1;32m    158\u001b[0m   \u001b[0;32mif\u001b[0m \u001b[0;32mnot\u001b[0m \u001b[0mctx\u001b[0m\u001b[0;34m.\u001b[0m\u001b[0min_graph_mode\u001b[0m\u001b[0;34m(\u001b[0m\u001b[0;34m)\u001b[0m\u001b[0;34m:\u001b[0m\u001b[0;34m\u001b[0m\u001b[0m\n\u001b[1;32m    159\u001b[0m     \u001b[0;32mif\u001b[0m \u001b[0mshape\u001b[0m \u001b[0;32mis\u001b[0m \u001b[0;32mNone\u001b[0m\u001b[0;34m:\u001b[0m\u001b[0;34m\u001b[0m\u001b[0m\n\u001b[0;32m--> 160\u001b[0;31m       \u001b[0;32mreturn\u001b[0m \u001b[0mconvert_to_eager_tensor\u001b[0m\u001b[0;34m(\u001b[0m\u001b[0mvalue\u001b[0m\u001b[0;34m,\u001b[0m \u001b[0mctx\u001b[0m\u001b[0;34m,\u001b[0m \u001b[0mdtype\u001b[0m\u001b[0;34m)\u001b[0m\u001b[0;34m\u001b[0m\u001b[0m\n\u001b[0m\u001b[1;32m    161\u001b[0m     \u001b[0mt\u001b[0m \u001b[0;34m=\u001b[0m \u001b[0mconvert_to_eager_tensor\u001b[0m\u001b[0;34m(\u001b[0m\u001b[0mvalue\u001b[0m\u001b[0;34m,\u001b[0m \u001b[0mctx\u001b[0m\u001b[0;34m,\u001b[0m \u001b[0mdtype\u001b[0m\u001b[0;34m)\u001b[0m\u001b[0;34m\u001b[0m\u001b[0m\n\u001b[1;32m    162\u001b[0m     \u001b[0mshape\u001b[0m \u001b[0;34m=\u001b[0m \u001b[0mtensor_shape\u001b[0m\u001b[0;34m.\u001b[0m\u001b[0mas_shape\u001b[0m\u001b[0;34m(\u001b[0m\u001b[0mshape\u001b[0m\u001b[0;34m)\u001b[0m\u001b[0;34m\u001b[0m\u001b[0m\n",
      "\u001b[0;32m~/anaconda3/envs/sep22/lib/python3.5/site-packages/tensorflow/python/framework/constant_op.py\u001b[0m in \u001b[0;36mconvert_to_eager_tensor\u001b[0;34m(t, ctx, dtype)\u001b[0m\n\u001b[1;32m    101\u001b[0m     \u001b[0;32mif\u001b[0m \u001b[0mtensor\u001b[0m \u001b[0;32mis\u001b[0m \u001b[0;32mnot\u001b[0m \u001b[0;32mNone\u001b[0m\u001b[0;34m:\u001b[0m\u001b[0;34m\u001b[0m\u001b[0m\n\u001b[1;32m    102\u001b[0m       \u001b[0;32mreturn\u001b[0m \u001b[0mtensor\u001b[0m\u001b[0;34m\u001b[0m\u001b[0m\n\u001b[0;32m--> 103\u001b[0;31m     \u001b[0mvalue\u001b[0m \u001b[0;34m=\u001b[0m \u001b[0mops\u001b[0m\u001b[0;34m.\u001b[0m\u001b[0mEagerTensor\u001b[0m\u001b[0;34m(\u001b[0m\u001b[0mt\u001b[0m\u001b[0;34m,\u001b[0m \u001b[0mctx\u001b[0m\u001b[0;34m,\u001b[0m \u001b[0mdtype\u001b[0m\u001b[0;34m=\u001b[0m\u001b[0mdtype\u001b[0m\u001b[0;34m)\u001b[0m\u001b[0;34m\u001b[0m\u001b[0m\n\u001b[0m\u001b[1;32m    104\u001b[0m     \u001b[0mscalar_cache\u001b[0m\u001b[0;34m[\u001b[0m\u001b[0mcache_key\u001b[0m\u001b[0;34m]\u001b[0m \u001b[0;34m=\u001b[0m \u001b[0mvalue\u001b[0m\u001b[0;34m\u001b[0m\u001b[0m\n\u001b[1;32m    105\u001b[0m     \u001b[0;32mreturn\u001b[0m \u001b[0mvalue\u001b[0m\u001b[0;34m\u001b[0m\u001b[0m\n",
      "\u001b[0;32m~/anaconda3/envs/sep22/lib/python3.5/site-packages/tensorflow/python/framework/ops.py\u001b[0m in \u001b[0;36m__init__\u001b[0;34m(self, value, ctx, dtype)\u001b[0m\n\u001b[1;32m    633\u001b[0m       \u001b[0mdtype\u001b[0m \u001b[0;34m=\u001b[0m \u001b[0mdtypes\u001b[0m\u001b[0;34m.\u001b[0m\u001b[0mas_dtype\u001b[0m\u001b[0;34m(\u001b[0m\u001b[0mc_api\u001b[0m\u001b[0;34m.\u001b[0m\u001b[0mTFE_TensorHandleDataType\u001b[0m\u001b[0;34m(\u001b[0m\u001b[0mself\u001b[0m\u001b[0;34m.\u001b[0m\u001b[0m_handle\u001b[0m\u001b[0;34m)\u001b[0m\u001b[0;34m)\u001b[0m\u001b[0;34m\u001b[0m\u001b[0m\n\u001b[1;32m    634\u001b[0m     \u001b[0;32melse\u001b[0m\u001b[0;34m:\u001b[0m\u001b[0;34m\u001b[0m\u001b[0m\n\u001b[0;32m--> 635\u001b[0;31m       \u001b[0mdtype_enum\u001b[0m \u001b[0;34m=\u001b[0m \u001b[0;32mNone\u001b[0m \u001b[0;32mif\u001b[0m \u001b[0mdtype\u001b[0m \u001b[0;32mis\u001b[0m \u001b[0;32mNone\u001b[0m \u001b[0;32melse\u001b[0m \u001b[0mdtype\u001b[0m\u001b[0;34m.\u001b[0m\u001b[0mas_datatype_enum\u001b[0m\u001b[0;34m\u001b[0m\u001b[0m\n\u001b[0m\u001b[1;32m    636\u001b[0m       \u001b[0;32mtry\u001b[0m\u001b[0;34m:\u001b[0m\u001b[0;34m\u001b[0m\u001b[0m\n\u001b[1;32m    637\u001b[0m         \u001b[0mself\u001b[0m\u001b[0;34m.\u001b[0m\u001b[0m_handle\u001b[0m \u001b[0;34m=\u001b[0m \u001b[0mc_api\u001b[0m\u001b[0;34m.\u001b[0m\u001b[0mTFE_Py_SequenceToTensorHandle\u001b[0m\u001b[0;34m(\u001b[0m\u001b[0mvalue\u001b[0m\u001b[0;34m,\u001b[0m \u001b[0mdtype_enum\u001b[0m\u001b[0;34m)\u001b[0m\u001b[0;34m\u001b[0m\u001b[0m\n",
      "\u001b[0;31mAttributeError\u001b[0m: type object 'numpy.float32' has no attribute 'as_datatype_enum'"
     ]
    }
   ],
   "source": [
    "import tensorflow as tf\n",
    "import numpy as np\n",
    "from tensorflow.contrib.eager.python import tfe\n",
    "tfe.enable_eager_execution()\n",
    "\n",
    "\n",
    "tf.constant(0.1, dtype=np.float32)"
   ]
  },
  {
   "cell_type": "markdown",
   "metadata": {},
   "source": [
    "# Scratch"
   ]
  },
  {
   "cell_type": "code",
   "execution_count": 6,
   "metadata": {},
   "outputs": [],
   "source": [
    "from tensorflow.python.ops import resource_variable_ops as rr"
   ]
  },
  {
   "cell_type": "code",
   "execution_count": 7,
   "metadata": {
    "collapsed": true
   },
   "outputs": [],
   "source": [
    "vv = rr.ResourceVariable(1)"
   ]
  },
  {
   "cell_type": "code",
   "execution_count": 13,
   "metadata": {},
   "outputs": [
    {
     "data": {
      "text/plain": [
       "<tf.Tensor: id=29, shape=(), dtype=int32, numpy=3>"
      ]
     },
     "execution_count": 13,
     "metadata": {},
     "output_type": "execute_result"
    }
   ],
   "source": [
    "vv.read_value()"
   ]
  },
  {
   "cell_type": "code",
   "execution_count": 12,
   "metadata": {},
   "outputs": [
    {
     "data": {
      "text/plain": [
       "<tf.Tensor: id=26, shape=(), dtype=int32, numpy=3>"
      ]
     },
     "execution_count": 12,
     "metadata": {},
     "output_type": "execute_result"
    }
   ],
   "source": [
    "vv.assign_add(1)"
   ]
  },
  {
   "cell_type": "code",
   "execution_count": 14,
   "metadata": {},
   "outputs": [
    {
     "ename": "AttributeError",
     "evalue": "module 'torch.cuda' has no attribute 'Tensor'",
     "output_type": "error",
     "traceback": [
      "\u001b[0;31m---------------------------------------------------------------------------\u001b[0m",
      "\u001b[0;31mAttributeError\u001b[0m                            Traceback (most recent call last)",
      "\u001b[0;32m<ipython-input-14-4fabd6bb96ac>\u001b[0m in \u001b[0;36m<module>\u001b[0;34m()\u001b[0m\n\u001b[0;32m----> 1\u001b[0;31m \u001b[0mTensor\u001b[0m \u001b[0;34m=\u001b[0m \u001b[0mtorch\u001b[0m\u001b[0;34m.\u001b[0m\u001b[0mcuda\u001b[0m\u001b[0;34m.\u001b[0m\u001b[0mTensor\u001b[0m\u001b[0;34m\u001b[0m\u001b[0m\n\u001b[0m",
      "\u001b[0;31mAttributeError\u001b[0m: module 'torch.cuda' has no attribute 'Tensor'"
     ]
    }
   ],
   "source": [
    "Tensor = torch.cuda.Tensor"
   ]
  },
  {
   "cell_type": "code",
   "execution_count": null,
   "metadata": {
    "collapsed": true
   },
   "outputs": [],
   "source": [
    "1+2"
   ]
  },
  {
   "cell_type": "code",
   "execution_count": null,
   "metadata": {
    "collapsed": true
   },
   "outputs": [],
   "source": []
  }
 ],
 "metadata": {
  "kernelspec": {
   "display_name": "Python 3",
   "language": "python",
   "name": "python3"
  },
  "language_info": {
   "codemirror_mode": {
    "name": "ipython",
    "version": 3
   },
   "file_extension": ".py",
   "mimetype": "text/x-python",
   "name": "python",
   "nbconvert_exporter": "python",
   "pygments_lexer": "ipython3",
   "version": "3.5.4"
  },
  "toc": {
   "nav_menu": {},
   "number_sections": true,
   "sideBar": true,
   "skip_h1_title": false,
   "toc_cell": false,
   "toc_position": {},
   "toc_section_display": "block",
   "toc_window_display": true
  }
 },
 "nbformat": 4,
 "nbformat_minor": 2
}
